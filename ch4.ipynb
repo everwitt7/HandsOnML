{
 "cells": [
  {
   "cell_type": "code",
   "execution_count": null,
   "metadata": {},
   "outputs": [],
   "source": []
  }
 ],
 "metadata": {
  "interpreter": {
   "hash": "b539a0fb181255ccf86513cab740af89dedc00188c90bf98ce2f70d0c4579e65"
  },
  "kernelspec": {
   "display_name": "Python 3.10.2 ('scrap')",
   "language": "python",
   "name": "python3"
  },
  "language_info": {
   "name": "python",
   "version": "3.10.2"
  },
  "orig_nbformat": 4
 },
 "nbformat": 4,
 "nbformat_minor": 2
}
